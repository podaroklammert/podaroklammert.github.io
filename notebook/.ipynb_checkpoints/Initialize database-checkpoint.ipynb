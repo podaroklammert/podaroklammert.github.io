{
 "cells": [
  {
   "cell_type": "code",
   "execution_count": 12,
   "id": "acf2c93b",
   "metadata": {},
   "outputs": [],
   "source": [
    "import json\n",
    "\n",
    "with open('startGifts.json') as f:\n",
    "    gifts = json.load(f)"
   ]
  },
  {
   "cell_type": "code",
   "execution_count": 13,
   "id": "a5567a8b",
   "metadata": {},
   "outputs": [
    {
     "data": {
      "text/plain": [
       "[{'Name': 'День с Верой',\n",
       "  'Given': False,\n",
       "  'Description': 'Провожу целый выходной с Верой беря за нее ответственность весь день!',\n",
       "  'Value': 'Дает тебе перерыв и время для себя, чтобы ты почувствовала заботу и понимание.'},\n",
       " {'Name': 'Выходной в будний день',\n",
       "  'Given': False,\n",
       "  'Description': 'Беру день отпуска на семью в будний день и провожу с вами время!',\n",
       "  'Value': 'Качественно проведенное время вместе укрепляет семейные узы.'},\n",
       " {'Name': 'Неделя кулинарии',\n",
       "  'Given': False,\n",
       "  'Description': 'Готовлю еду для Веры и нас всю неделю!',\n",
       "  'Value': 'Облегчает тебе повседневные заботы!'},\n",
       " {'Name': 'Особый завтрак',\n",
       "  'Given': False,\n",
       "  'Description': 'Я готовлю особый завтрак: блинчики и горячий шоколад с взбитыми сливками!',\n",
       "  'Value': 'Дарит уютное и теплое начало дня, наполненное любовью и вниманием.'},\n",
       " {'Name': 'Игрушка для взрослых',\n",
       "  'Given': False,\n",
       "  'Description': 'Игрушка 18+ для себя или для двоих на выбор!',\n",
       "  'Value': 'Вносит новизну и остроту ощущений в отношения, усиливая интимную связь.'},\n",
       " {'Name': 'Поход в массаж',\n",
       "  'Given': False,\n",
       "  'Description': 'Поход в массаж пока я сижу с верой дома!',\n",
       "  'Value': 'Предоставляет тебе расслабление и уход за собой, помогая снять стресс и усталость.'},\n",
       " {'Name': 'Гончарный мастер-класс',\n",
       "  'Given': False,\n",
       "  'Description': 'Воршкоп по гончарному делу в 5 минутах от дома!',\n",
       "  'Value': 'Позволяет тебе раскрыть творческий потенциал и получить новый увлекательный опыт.'},\n",
       " {'Name': 'Одежда до 60 евро',\n",
       "  'Given': False,\n",
       "  'Description': 'Одежда - любой элемент одежды до 60 евро!',\n",
       "  'Value': 'Дает тебе возможность выбрать что-то особенное для себя, подчеркивая твою индивидуальность.'},\n",
       " {'Name': '80 евро наличными',\n",
       "  'Given': False,\n",
       "  'Description': '80 евро наличными которые можно потратить на что угодно!',\n",
       "  'Value': 'Предоставляет полную свободу выбора, позволяя тебе самостоятельно определить, что тебе нужно.'},\n",
       " {'Name': 'Поход в салон',\n",
       "  'Given': False,\n",
       "  'Description': 'Поход в салон: Маникюр или прическа на выбор!',\n",
       "  'Value': 'Предлагает роскошное время для самоухода и обновления.'},\n",
       " {'Name': 'Еда на дом',\n",
       "  'Given': False,\n",
       "  'Description': 'Заказать еду из ресторана на выбор на дом!',\n",
       "  'Value': 'Обеспечивает удобство и разнообразие в ужине без необходимости готовить.'},\n",
       " {'Description': 'Фотосессия: профессиональная фотосессия с семьей или только для себя на выбор!',\n",
       "  'Given': False,\n",
       "  'Value': 'Позволит сохранить особенные моменты в профессиональных фотографиях и подарит радость от совместного времяпровождения.'}]"
      ]
     },
     "execution_count": 13,
     "metadata": {},
     "output_type": "execute_result"
    }
   ],
   "source": [
    "import firebase_admin\n",
    "from firebase_admin import credentials\n",
    "from firebase_admin import firestore\n",
    "\n",
    "# Initialize Firestore\n",
    "cred = credentials.Certificate('podaroklammert-firebase-adminsdk-bjppl-1fddaf81b5.json')\n",
    "firebase_admin.initialize_app(cred)\n",
    "\n",
    "db = firestore.client()\n",
    "\n",
    "# Reading the 'startGifts.json' file\n",
    "with open('startGifts.json') as f:\n",
    "    gifts = json.load(f)\n",
    "\n",
    "# Uploading data to Firestore\n",
    "for gift in gifts:\n",
    "    # Firestore automatically generates a unique ID for each new document\n",
    "    db.collection('gifts').add(gift)\n",
    "\n",
    "print(\"Data upload complete.\")\n"
   ]
  },
  {
   "cell_type": "code",
   "execution_count": null,
   "id": "b4293fbe",
   "metadata": {},
   "outputs": [],
   "source": []
  }
 ],
 "metadata": {
  "kernelspec": {
   "display_name": "Python 3 (ipykernel)",
   "language": "python",
   "name": "python3"
  },
  "language_info": {
   "codemirror_mode": {
    "name": "ipython",
    "version": 3
   },
   "file_extension": ".py",
   "mimetype": "text/x-python",
   "name": "python",
   "nbconvert_exporter": "python",
   "pygments_lexer": "ipython3",
   "version": "3.10.9"
  }
 },
 "nbformat": 4,
 "nbformat_minor": 5
}
